{
 "cells": [
  {
   "cell_type": "code",
   "execution_count": 28,
   "metadata": {},
   "outputs": [
    {
     "name": "stdout",
     "output_type": "stream",
     "text": [
      "Les commandes SQL ont été sauvegardées avec succès dans 'C:\\Users\\Bilal\\Desktop\\Digital_Courses-main\\Digital_Courses-main\\data\\scripts\\insertions_centre_formations_maps.sql'.\n"
     ]
    }
   ],
   "source": [
    "import pandas as pd\n",
    "\n",
    "# Replace with the correct path to your CSV file.\n",
    "chemin_fichier_csv = r'C:\\Users\\Bilal\\Desktop\\Digital_Courses-main\\Digital_Courses-main\\data\\scripts\\Google_Maps_Cleaned.csv'\n",
    "\n",
    "# Define a function to handle NaN values and escape single quotes\n",
    "def escape_string(val):\n",
    "    if pd.isna(val):\n",
    "        return \"NULL\"\n",
    "    return str(val).replace(\"'\", \"''\")\n",
    "\n",
    "# Read the CSV file\n",
    "df = pd.read_csv(chemin_fichier_csv)\n",
    "\n",
    "# Path where the SQL file will be saved.\n",
    "chemin_fichier_sql = r'C:\\Users\\Bilal\\Desktop\\Digital_Courses-main\\Digital_Courses-main\\data\\scripts\\insertions_centre_formations_maps.sql'\n",
    "\n",
    "# Open the SQL file to write the insert commands\n",
    "with open(chemin_fichier_sql, 'w', encoding='utf-8') as fichier_sql:\n",
    "    for _, ligne in df.iterrows():\n",
    "        # Prepare values and handle NaN\n",
    "        name = escape_string(ligne['Name'])\n",
    "        rue = escape_string(ligne['Rue'])\n",
    "        code_postal = escape_string(ligne['Code Postal'])\n",
    "        pays = escape_string(ligne['Pays'])\n",
    "        numero_telephone = escape_string(ligne['Numero_Telephon'])  # Correct column name as per CSV\n",
    "        somme_avis = escape_string(ligne['Somme des Avis'])  # Correct column name as per CSV\n",
    "        avis_5 = escape_string(ligne['Avis/5'])  # Correct column name as per CSV\n",
    "        siteweb = escape_string(ligne['SiteWeb'])  # Correct column name as per CSV\n",
    "        \n",
    "        # Write the INSERT command for the current row\n",
    "        fichier_sql.write(\n",
    "            f\"INSERT INTO Centre_Formations_Maps (Name, Rue, CodePostal, Pays, NumeroTelephone, SommesDesAvis, Avis_5, SiteWeb) \"\n",
    "            f\"VALUES ('{name}', '{rue}', '{code_postal}', '{pays}', '{numero_telephone}', '{somme_avis}', '{avis_5}', '{siteweb}');\\n\"\n",
    "        )\n",
    "\n",
    "print(f\"Les commandes SQL ont été sauvegardées avec succès dans '{chemin_fichier_sql}'.\")\n"
   ]
  },
  {
   "cell_type": "code",
   "execution_count": 29,
   "metadata": {},
   "outputs": [
    {
     "name": "stdout",
     "output_type": "stream",
     "text": [
      "Les commandes SQL ont été sauvegardées avec succès dans 'C:\\Users\\Bilal\\Desktop\\Digital_Courses-main\\Digital_Courses-main\\data\\scripts\\insertions_centre_formations_maps.sql'.\n"
     ]
    }
   ],
   "source": [
    "import pandas as pd\n",
    "\n",
    "# Replace with the correct path to your CSV file.\n",
    "chemin_fichier_csv = r'C:\\Users\\Bilal\\Desktop\\Digital_Courses-main\\Digital_Courses-main\\data\\scripts\\Google_Maps_Cleaned.csv'\n",
    "\n",
    "# Define a function to handle NaN values and escape single quotes\n",
    "def escape_string(val):\n",
    "    if pd.isna(val):\n",
    "        return None  # Use Python None, which will be converted to SQL NULL without quotes\n",
    "    return str(val).replace(\"'\", \"''\")\n",
    "\n",
    "# Read the CSV file\n",
    "df = pd.read_csv(chemin_fichier_csv)\n",
    "\n",
    "# Path where the SQL file will be saved.\n",
    "chemin_fichier_sql = r'C:\\Users\\Bilal\\Desktop\\Digital_Courses-main\\Digital_Courses-main\\data\\scripts\\insertions_centre_formations_maps.sql'\n",
    "\n",
    "# Open the SQL file to write the insert commands\n",
    "with open(chemin_fichier_sql, 'w', encoding='utf-8') as fichier_sql:\n",
    "    for _, ligne in df.iterrows():\n",
    "        # Prepare values and handle NaN\n",
    "        name = escape_string(ligne['Name'])\n",
    "        rue = escape_string(ligne['Rue'])\n",
    "        code_postal = escape_string(ligne['Code Postal'])\n",
    "        pays = escape_string(ligne['Pays'])\n",
    "        numero_telephone = escape_string(ligne['Numero_Telephon'])\n",
    "        somme_avis = escape_string(ligne['Somme des Avis'])\n",
    "        avis_5 = escape_string(ligne['Avis/5'])\n",
    "        siteweb = escape_string(ligne.get('SiteWeb', None))\n",
    "        \n",
    "        # Values to be inserted, using a ternary operator to handle None values\n",
    "        values = (\n",
    "            f\"'{name}'\" if name is not None else 'NULL',\n",
    "            f\"'{rue}'\" if rue is not None else 'NULL',\n",
    "            f\"'{code_postal}'\" if code_postal is not None else 'NULL',\n",
    "            f\"'{pays}'\" if pays is not None else 'NULL',\n",
    "            f\"'{numero_telephone}'\" if numero_telephone is not None else 'NULL',\n",
    "            f\"'{somme_avis}'\" if somme_avis is not None else 'NULL',\n",
    "            f\"'{avis_5}'\" if avis_5 is not None else 'NULL',\n",
    "            f\"'{siteweb}'\" if siteweb is not None else 'NULL',\n",
    "        )\n",
    "        \n",
    "        # Write the INSERT command for the current row\n",
    "        fichier_sql.write(\n",
    "            \"INSERT INTO Centre_Formations_Maps \"\n",
    "            \"(Name, Rue, CodePostal, Pays, NumeroTelephone, SommesDesAvis, Avis_5, SiteWeb) \"\n",
    "            \"VALUES ({}, {}, {}, {}, {}, {}, {}, {});\\n\".format(*values)\n",
    "        )\n",
    "\n",
    "print(f\"Les commandes SQL ont été sauvegardées avec succès dans '{chemin_fichier_sql}'.\")\n"
   ]
  }
 ],
 "metadata": {
  "kernelspec": {
   "display_name": "Python 3",
   "language": "python",
   "name": "python3"
  },
  "language_info": {
   "codemirror_mode": {
    "name": "ipython",
    "version": 3
   },
   "file_extension": ".py",
   "mimetype": "text/x-python",
   "name": "python",
   "nbconvert_exporter": "python",
   "pygments_lexer": "ipython3",
   "version": "3.11.4"
  }
 },
 "nbformat": 4,
 "nbformat_minor": 2
}
